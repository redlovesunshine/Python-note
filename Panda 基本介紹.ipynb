{
 "cells": [
  {
   "cell_type": "code",
   "execution_count": 2,
   "metadata": {
    "collapsed": true
   },
   "outputs": [],
   "source": [
    "%matplotlib inline\n",
    "import numpy as np\n",
    "import matplotlib.pyplot as plt\n",
    "import pandas as pd"
   ]
  },
  {
   "cell_type": "code",
   "execution_count": 1,
   "metadata": {},
   "outputs": [
    {
     "name": "stdout",
     "output_type": "stream",
     "text": [
      " 磁碟區 C 中的磁碟是 OS\n",
      " 磁碟區序號:  3C74-6C4F\n",
      "\n",
      " C:\\Users\\User\\Github_folder\\Python-note\\數據分析 的目錄\n",
      "\n",
      "2020/04/07  下午 02:45    <DIR>          .\n",
      "2020/04/07  下午 02:45    <DIR>          ..\n",
      "2020/04/07  下午 02:45    <DIR>          .ipynb_checkpoints\n",
      "2020/03/31  下午 05:08             8,857 array 大變身.ipynb\n",
      "2020/03/31  下午 04:27             1,903 array 介紹.ipynb\n",
      "2020/04/01  下午 02:20             4,372 array 快速生成法.ipynb\n",
      "2020/04/01  下午 02:35            34,901 array 快篩法.ipynb\n",
      "2020/03/31  下午 04:34             2,216 array 做加權和 (算成績).ipynb\n",
      "2020/04/01  下午 02:25            56,492 array 畫圖.ipynb\n",
      "2020/03/31  下午 01:37             2,166 for 迴圈.ipynb\n",
      "2020/04/07  下午 02:40             2,406 grades.csv\n",
      "2020/03/31  下午 01:49             1,954 if 條件判斷.ipynb\n",
      "2020/03/30  下午 05:40             2,000 List 快速生成法.ipynb\n",
      "2020/03/30  下午 05:07             4,248 List 的切割技術.ipynb\n",
      "2020/03/30  下午 03:23            23,099 melody.jpg\n",
      "2020/04/07  下午 02:45                72 Untitled.ipynb\n",
      "2020/04/01  下午 03:10             5,635 互動功能.ipynb\n",
      "2020/03/30  下午 04:26             4,810 互動的開始 input.ipynb\n",
      "2020/04/07  下午 02:04             1,942 互動範例 BMI 計算器.ipynb\n",
      "2020/04/01  下午 03:12             2,237 互動範例.ipynb\n",
      "2020/03/31  下午 03:24             5,151 正規讀套件方法.ipynb\n",
      "2020/03/30  下午 03:28             1,466 用 Markdown 作筆記.ipynb\n",
      "2020/03/30  下午 04:43             2,323 用迴圈做拍拍機器人.ipynb\n",
      "2020/03/30  下午 04:07             4,462 字串 HELLO WORLD.ipynb\n",
      "2020/03/30  下午 04:49             2,521 字串完全照我們意思格式化.ipynb\n",
      "2020/03/30  下午 05:10             1,967 字串很像 list.ipynb\n",
      "2020/04/01  下午 02:57             2,630 字典格式.ipynb\n",
      "2020/03/30  下午 03:55            17,173 串列 list 是數據分析第一步.ipynb\n",
      "2020/03/31  下午 01:40             2,553 我們要找的資料在裡面嗎.ipynb\n",
      "2020/03/30  下午 04:55             2,469 函數寫法初級班.ipynb\n",
      "2020/03/30  下午 04:59             1,776 函數練習.ipynb\n",
      "2020/03/30  下午 04:35             3,704 條件判斷.ipynb\n",
      "2020/03/31  下午 03:10             1,902 猜數字遊戲.ipynb\n",
      "2020/03/31  下午 04:22             1,915 處理一整個list的數字.ipynb\n",
      "2020/03/31  下午 03:10             1,766 亂數好好玩.ipynb\n",
      "2020/04/01  下午 03:36            25,474 圖形互動1.ipynb\n",
      "2020/04/07  下午 01:58             8,760 圖形互動之 over fitting.ipynb\n",
      "2020/03/31  下午 04:43             2,524 算全班成績.ipynb\n",
      "2020/03/31  下午 03:33            48,071 數據分析標準動作.ipynb\n",
      "2020/03/30  下午 03:37             3,537 變數好好用.ipynb\n",
      "              37 個檔案         301,454 位元組\n",
      "               3 個目錄   4,153,823,232 位元組可用\n"
     ]
    }
   ],
   "source": [
    "ls #看現在路徑下有甚麼東西"
   ]
  },
  {
   "cell_type": "code",
   "execution_count": 3,
   "metadata": {
    "collapsed": true
   },
   "outputs": [],
   "source": [
    "df = pd.read_csv(\"grades.csv\")"
   ]
  },
  {
   "cell_type": "code",
   "execution_count": 5,
   "metadata": {},
   "outputs": [
    {
     "data": {
      "text/html": [
       "<div>\n",
       "<style>\n",
       "    .dataframe thead tr:only-child th {\n",
       "        text-align: right;\n",
       "    }\n",
       "\n",
       "    .dataframe thead th {\n",
       "        text-align: left;\n",
       "    }\n",
       "\n",
       "    .dataframe tbody tr th {\n",
       "        vertical-align: top;\n",
       "    }\n",
       "</style>\n",
       "<table border=\"1\" class=\"dataframe\">\n",
       "  <thead>\n",
       "    <tr style=\"text-align: right;\">\n",
       "      <th></th>\n",
       "      <th>姓名</th>\n",
       "      <th>國文</th>\n",
       "      <th>英文</th>\n",
       "      <th>數學</th>\n",
       "      <th>自然</th>\n",
       "      <th>社會</th>\n",
       "    </tr>\n",
       "  </thead>\n",
       "  <tbody>\n",
       "    <tr>\n",
       "      <th>0</th>\n",
       "      <td>劉俊安</td>\n",
       "      <td>9</td>\n",
       "      <td>10</td>\n",
       "      <td>15</td>\n",
       "      <td>10</td>\n",
       "      <td>13</td>\n",
       "    </tr>\n",
       "    <tr>\n",
       "      <th>1</th>\n",
       "      <td>胡玉華</td>\n",
       "      <td>10</td>\n",
       "      <td>10</td>\n",
       "      <td>10</td>\n",
       "      <td>8</td>\n",
       "      <td>9</td>\n",
       "    </tr>\n",
       "    <tr>\n",
       "      <th>2</th>\n",
       "      <td>黃淑婷</td>\n",
       "      <td>13</td>\n",
       "      <td>15</td>\n",
       "      <td>8</td>\n",
       "      <td>11</td>\n",
       "      <td>14</td>\n",
       "    </tr>\n",
       "    <tr>\n",
       "      <th>3</th>\n",
       "      <td>陳上紫</td>\n",
       "      <td>10</td>\n",
       "      <td>10</td>\n",
       "      <td>8</td>\n",
       "      <td>9</td>\n",
       "      <td>14</td>\n",
       "    </tr>\n",
       "    <tr>\n",
       "      <th>4</th>\n",
       "      <td>崔靜成</td>\n",
       "      <td>13</td>\n",
       "      <td>12</td>\n",
       "      <td>14</td>\n",
       "      <td>12</td>\n",
       "      <td>13</td>\n",
       "    </tr>\n",
       "  </tbody>\n",
       "</table>\n",
       "</div>"
      ],
      "text/plain": [
       "    姓名  國文  英文  數學  自然  社會\n",
       "0  劉俊安   9  10  15  10  13\n",
       "1  胡玉華  10  10  10   8   9\n",
       "2  黃淑婷  13  15   8  11  14\n",
       "3  陳上紫  10  10   8   9  14\n",
       "4  崔靜成  13  12  14  12  13"
      ]
     },
     "execution_count": 5,
     "metadata": {},
     "output_type": "execute_result"
    }
   ],
   "source": [
    "df.head()"
   ]
  },
  {
   "cell_type": "code",
   "execution_count": 6,
   "metadata": {},
   "outputs": [
    {
     "data": {
      "text/plain": [
       "0      9\n",
       "1     10\n",
       "2     13\n",
       "3     10\n",
       "4     13\n",
       "5     13\n",
       "6     11\n",
       "7      8\n",
       "8      9\n",
       "9     10\n",
       "10    14\n",
       "11    13\n",
       "12    11\n",
       "13    15\n",
       "14     8\n",
       "15    11\n",
       "16    14\n",
       "17    12\n",
       "18     9\n",
       "19    14\n",
       "20    13\n",
       "21     9\n",
       "22    12\n",
       "23    10\n",
       "24    10\n",
       "25    13\n",
       "26    13\n",
       "27     8\n",
       "28    15\n",
       "29    14\n",
       "      ..\n",
       "70     9\n",
       "71     9\n",
       "72    10\n",
       "73    13\n",
       "74    14\n",
       "75    13\n",
       "76     9\n",
       "77    13\n",
       "78    12\n",
       "79     9\n",
       "80    13\n",
       "81    11\n",
       "82    11\n",
       "83    10\n",
       "84    10\n",
       "85    10\n",
       "86    11\n",
       "87    10\n",
       "88    11\n",
       "89    13\n",
       "90     8\n",
       "91    14\n",
       "92     8\n",
       "93    11\n",
       "94    10\n",
       "95     9\n",
       "96     8\n",
       "97    14\n",
       "98    15\n",
       "99     9\n",
       "Name: 國文, Length: 100, dtype: int64"
      ]
     },
     "execution_count": 6,
     "metadata": {},
     "output_type": "execute_result"
    }
   ],
   "source": [
    "df[\"國文\"]"
   ]
  },
  {
   "cell_type": "code",
   "execution_count": 7,
   "metadata": {},
   "outputs": [
    {
     "data": {
      "text/plain": [
       "0      9\n",
       "1     10\n",
       "2     13\n",
       "3     10\n",
       "4     13\n",
       "5     13\n",
       "6     11\n",
       "7      8\n",
       "8      9\n",
       "9     10\n",
       "10    14\n",
       "11    13\n",
       "12    11\n",
       "13    15\n",
       "14     8\n",
       "15    11\n",
       "16    14\n",
       "17    12\n",
       "18     9\n",
       "19    14\n",
       "20    13\n",
       "21     9\n",
       "22    12\n",
       "23    10\n",
       "24    10\n",
       "25    13\n",
       "26    13\n",
       "27     8\n",
       "28    15\n",
       "29    14\n",
       "      ..\n",
       "70     9\n",
       "71     9\n",
       "72    10\n",
       "73    13\n",
       "74    14\n",
       "75    13\n",
       "76     9\n",
       "77    13\n",
       "78    12\n",
       "79     9\n",
       "80    13\n",
       "81    11\n",
       "82    11\n",
       "83    10\n",
       "84    10\n",
       "85    10\n",
       "86    11\n",
       "87    10\n",
       "88    11\n",
       "89    13\n",
       "90     8\n",
       "91    14\n",
       "92     8\n",
       "93    11\n",
       "94    10\n",
       "95     9\n",
       "96     8\n",
       "97    14\n",
       "98    15\n",
       "99     9\n",
       "Name: 國文, Length: 100, dtype: int64"
      ]
     },
     "execution_count": 7,
     "metadata": {},
     "output_type": "execute_result"
    }
   ],
   "source": [
    "df.國文"
   ]
  },
  {
   "cell_type": "code",
   "execution_count": 8,
   "metadata": {
    "collapsed": true
   },
   "outputs": [],
   "source": [
    "cg = df.國文.values #轉換 dataframe 單項變 array 的方法"
   ]
  },
  {
   "cell_type": "code",
   "execution_count": 9,
   "metadata": {},
   "outputs": [
    {
     "data": {
      "text/plain": [
       "array([ 9, 10, 13, 10, 13, 13, 11,  8,  9, 10, 14, 13, 11, 15,  8, 11, 14,\n",
       "       12,  9, 14, 13,  9, 12, 10, 10, 13, 13,  8, 15, 14,  8, 15,  9, 14,\n",
       "       13, 14, 12, 11,  8,  9, 12, 14, 14, 12, 13,  9, 14,  8, 15, 10, 12,\n",
       "       14, 12, 14, 15,  9, 11, 12, 10, 11, 14, 14,  8, 12,  9, 13, 10, 14,\n",
       "        8, 12,  9,  9, 10, 13, 14, 13,  9, 13, 12,  9, 13, 11, 11, 10, 10,\n",
       "       10, 11, 10, 11, 13,  8, 14,  8, 11, 10,  9,  8, 14, 15,  9], dtype=int64)"
      ]
     },
     "execution_count": 9,
     "metadata": {},
     "output_type": "execute_result"
    }
   ],
   "source": [
    "cg"
   ]
  },
  {
   "cell_type": "code",
   "execution_count": 10,
   "metadata": {},
   "outputs": [
    {
     "data": {
      "text/plain": [
       "11.390000000000001"
      ]
     },
     "execution_count": 10,
     "metadata": {},
     "output_type": "execute_result"
    }
   ],
   "source": [
    "cg.mean() #平均"
   ]
  },
  {
   "cell_type": "code",
   "execution_count": 11,
   "metadata": {},
   "outputs": [
    {
     "data": {
      "text/plain": [
       "2.1858407993264284"
      ]
     },
     "execution_count": 11,
     "metadata": {},
     "output_type": "execute_result"
    }
   ],
   "source": [
    "cg.std() #標準差"
   ]
  },
  {
   "cell_type": "code",
   "execution_count": 13,
   "metadata": {},
   "outputs": [
    {
     "data": {
      "text/plain": [
       "<matplotlib.axes._subplots.AxesSubplot at 0x2e83fef1e48>"
      ]
     },
     "execution_count": 13,
     "metadata": {},
     "output_type": "execute_result"
    },
    {
     "data": {
      "image/png": "[encoded data removed]",
      "text/plain": [
       "<matplotlib.figure.Figure at 0x2e83febf438>"
      ]
     },
     "metadata": {},
     "output_type": "display_data"
    }
   ],
   "source": [
    "df.國文.plot()"
   ]
  },
  {
   "cell_type": "code",
   "execution_count": 15,
   "metadata": {},
   "outputs": [
    {
     "data": {
      "text/plain": [
       "<matplotlib.axes._subplots.AxesSubplot at 0x2e8401d4c88>"
      ]
     },
     "execution_count": 15,
     "metadata": {},
     "output_type": "execute_result"
    },
    {
     "data": {
      "image/png": "[encoded data removed]",
      "text/plain": [
       "<matplotlib.figure.Figure at 0x2e840280eb8>"
      ]
     },
     "metadata": {},
     "output_type": "display_data"
    }
   ],
   "source": [
    "df.國文.hist(bins=15) #畫單項資料直方圖 bins=區分區間"
   ]
  }
 ],
 "metadata": {
  "kernelspec": {
   "display_name": "Python 3",
   "language": "python",
   "name": "python3"
  },
  "language_info": {
   "codemirror_mode": {
    "name": "ipython",
    "version": 3
   },
   "file_extension": ".py",
   "mimetype": "text/x-python",
   "name": "python",
   "nbconvert_exporter": "python",
   "pygments_lexer": "ipython3",
   "version": "3.6.3"
  }
 },
 "nbformat": 4,
 "nbformat_minor": 2
}
