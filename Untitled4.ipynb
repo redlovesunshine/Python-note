{
 "cells": [
  {
   "cell_type": "code",
   "execution_count": 1,
   "metadata": {
    "collapsed": true
   },
   "outputs": [],
   "source": [
    "ironmen = [46, 8, 11, 11, 4, 56]"
   ]
  },
  {
   "cell_type": "code",
   "execution_count": 2,
   "metadata": {
    "collapsed": true
   },
   "outputs": [],
   "source": [
    "articles = ironmen * 30"
   ]
  },
  {
   "cell_type": "code",
   "execution_count": 3,
   "metadata": {},
   "outputs": [
    {
     "data": {
      "text/plain": [
       "[46,\n",
       " 8,\n",
       " 11,\n",
       " 11,\n",
       " 4,\n",
       " 56,\n",
       " 46,\n",
       " 8,\n",
       " 11,\n",
       " 11,\n",
       " 4,\n",
       " 56,\n",
       " 46,\n",
       " 8,\n",
       " 11,\n",
       " 11,\n",
       " 4,\n",
       " 56,\n",
       " 46,\n",
       " 8,\n",
       " 11,\n",
       " 11,\n",
       " 4,\n",
       " 56,\n",
       " 46,\n",
       " 8,\n",
       " 11,\n",
       " 11,\n",
       " 4,\n",
       " 56,\n",
       " 46,\n",
       " 8,\n",
       " 11,\n",
       " 11,\n",
       " 4,\n",
       " 56,\n",
       " 46,\n",
       " 8,\n",
       " 11,\n",
       " 11,\n",
       " 4,\n",
       " 56,\n",
       " 46,\n",
       " 8,\n",
       " 11,\n",
       " 11,\n",
       " 4,\n",
       " 56,\n",
       " 46,\n",
       " 8,\n",
       " 11,\n",
       " 11,\n",
       " 4,\n",
       " 56,\n",
       " 46,\n",
       " 8,\n",
       " 11,\n",
       " 11,\n",
       " 4,\n",
       " 56,\n",
       " 46,\n",
       " 8,\n",
       " 11,\n",
       " 11,\n",
       " 4,\n",
       " 56,\n",
       " 46,\n",
       " 8,\n",
       " 11,\n",
       " 11,\n",
       " 4,\n",
       " 56,\n",
       " 46,\n",
       " 8,\n",
       " 11,\n",
       " 11,\n",
       " 4,\n",
       " 56,\n",
       " 46,\n",
       " 8,\n",
       " 11,\n",
       " 11,\n",
       " 4,\n",
       " 56,\n",
       " 46,\n",
       " 8,\n",
       " 11,\n",
       " 11,\n",
       " 4,\n",
       " 56,\n",
       " 46,\n",
       " 8,\n",
       " 11,\n",
       " 11,\n",
       " 4,\n",
       " 56,\n",
       " 46,\n",
       " 8,\n",
       " 11,\n",
       " 11,\n",
       " 4,\n",
       " 56,\n",
       " 46,\n",
       " 8,\n",
       " 11,\n",
       " 11,\n",
       " 4,\n",
       " 56,\n",
       " 46,\n",
       " 8,\n",
       " 11,\n",
       " 11,\n",
       " 4,\n",
       " 56,\n",
       " 46,\n",
       " 8,\n",
       " 11,\n",
       " 11,\n",
       " 4,\n",
       " 56,\n",
       " 46,\n",
       " 8,\n",
       " 11,\n",
       " 11,\n",
       " 4,\n",
       " 56,\n",
       " 46,\n",
       " 8,\n",
       " 11,\n",
       " 11,\n",
       " 4,\n",
       " 56,\n",
       " 46,\n",
       " 8,\n",
       " 11,\n",
       " 11,\n",
       " 4,\n",
       " 56,\n",
       " 46,\n",
       " 8,\n",
       " 11,\n",
       " 11,\n",
       " 4,\n",
       " 56,\n",
       " 46,\n",
       " 8,\n",
       " 11,\n",
       " 11,\n",
       " 4,\n",
       " 56,\n",
       " 46,\n",
       " 8,\n",
       " 11,\n",
       " 11,\n",
       " 4,\n",
       " 56,\n",
       " 46,\n",
       " 8,\n",
       " 11,\n",
       " 11,\n",
       " 4,\n",
       " 56,\n",
       " 46,\n",
       " 8,\n",
       " 11,\n",
       " 11,\n",
       " 4,\n",
       " 56,\n",
       " 46,\n",
       " 8,\n",
       " 11,\n",
       " 11,\n",
       " 4,\n",
       " 56,\n",
       " 46,\n",
       " 8,\n",
       " 11,\n",
       " 11,\n",
       " 4,\n",
       " 56]"
      ]
     },
     "execution_count": 3,
     "metadata": {},
     "output_type": "execute_result"
    }
   ],
   "source": [
    "articles"
   ]
  },
  {
   "cell_type": "code",
   "execution_count": 4,
   "metadata": {},
   "outputs": [
    {
     "ename": "TypeError",
     "evalue": "can't multiply sequence by non-int of type 'list'",
     "output_type": "error",
     "traceback": [
      "\u001b[1;31m---------------------------------------------------------------------------\u001b[0m",
      "\u001b[1;31mTypeError\u001b[0m                                 Traceback (most recent call last)",
      "\u001b[1;32m<ipython-input-4-19ba40e95690>\u001b[0m in \u001b[0;36m<module>\u001b[1;34m()\u001b[0m\n\u001b[0;32m      1\u001b[0m \u001b[0mironmen\u001b[0m \u001b[1;33m=\u001b[0m \u001b[1;33m[\u001b[0m\u001b[1;36m46\u001b[0m\u001b[1;33m,\u001b[0m \u001b[1;36m8\u001b[0m\u001b[1;33m,\u001b[0m \u001b[1;36m11\u001b[0m\u001b[1;33m,\u001b[0m \u001b[1;36m11\u001b[0m\u001b[1;33m,\u001b[0m \u001b[1;36m4\u001b[0m\u001b[1;33m,\u001b[0m \u001b[1;36m56\u001b[0m\u001b[1;33m]\u001b[0m\u001b[1;33m\u001b[0m\u001b[0m\n\u001b[0;32m      2\u001b[0m \u001b[0marticle_multiplier\u001b[0m \u001b[1;33m=\u001b[0m \u001b[1;33m[\u001b[0m\u001b[1;36m30\u001b[0m\u001b[1;33m,\u001b[0m \u001b[1;36m30\u001b[0m\u001b[1;33m,\u001b[0m \u001b[1;36m30\u001b[0m\u001b[1;33m,\u001b[0m \u001b[1;36m30\u001b[0m\u001b[1;33m,\u001b[0m \u001b[1;36m30\u001b[0m\u001b[1;33m,\u001b[0m \u001b[1;36m30\u001b[0m\u001b[1;33m]\u001b[0m\u001b[1;33m\u001b[0m\u001b[0m\n\u001b[1;32m----> 3\u001b[1;33m \u001b[0marticles\u001b[0m \u001b[1;33m=\u001b[0m \u001b[0mironmen\u001b[0m \u001b[1;33m*\u001b[0m \u001b[0marticle_multiplier\u001b[0m\u001b[1;33m\u001b[0m\u001b[0m\n\u001b[0m\u001b[0;32m      4\u001b[0m \u001b[0mprint\u001b[0m\u001b[1;33m(\u001b[0m\u001b[0marticles\u001b[0m\u001b[1;33m)\u001b[0m\u001b[1;33m\u001b[0m\u001b[0m\n",
      "\u001b[1;31mTypeError\u001b[0m: can't multiply sequence by non-int of type 'list'"
     ]
    }
   ],
   "source": [
    "ironmen = [46, 8, 11, 11, 4, 56]\n",
    "article_multiplier = [30, 30, 30, 30, 30, 30]\n",
    "articles = ironmen * article_multiplier\n",
    "print(articles)"
   ]
  },
  {
   "cell_type": "code",
   "execution_count": 5,
   "metadata": {
    "collapsed": true
   },
   "outputs": [],
   "source": [
    "import numpy"
   ]
  },
  {
   "cell_type": "code",
   "execution_count": 6,
   "metadata": {
    "collapsed": true
   },
   "outputs": [],
   "source": [
    "ironmen = numpy.array([46, 8, 11, 11, 4, 56])"
   ]
  },
  {
   "cell_type": "code",
   "execution_count": 7,
   "metadata": {
    "collapsed": true
   },
   "outputs": [],
   "source": [
    "ironmen = numpy.array([46, 8, 11, 11, 4, 56])"
   ]
  },
  {
   "cell_type": "code",
   "execution_count": 8,
   "metadata": {},
   "outputs": [
    {
     "name": "stdout",
     "output_type": "stream",
     "text": [
      "[46  8 11 11  4 56]\n",
      "<class 'numpy.ndarray'>\n"
     ]
    }
   ],
   "source": [
    "print(ironmen) # 看看 ironmen 的外觀\n",
    "print(type(ironmen)) # 看看 ironmen 的資料結構"
   ]
  },
  {
   "cell_type": "code",
   "execution_count": 9,
   "metadata": {},
   "outputs": [
    {
     "name": "stdout",
     "output_type": "stream",
     "text": [
      "[1380  240  330  330  120 1680]\n"
     ]
    }
   ],
   "source": [
    " articles = ironmen * 30\n",
    "print(articles)"
   ]
  },
  {
   "cell_type": "code",
   "execution_count": 10,
   "metadata": {
    "collapsed": true
   },
   "outputs": [],
   "source": [
    "import numpy as np"
   ]
  },
  {
   "cell_type": "code",
   "execution_count": 11,
   "metadata": {},
   "outputs": [
    {
     "name": "stdout",
     "output_type": "stream",
     "text": [
      "[46  8 11 11  4 56]\n",
      "<class 'numpy.ndarray'>\n",
      "[1380  240  330  330  120 1680]\n"
     ]
    }
   ],
   "source": [
    "ironmen = np.array([46, 8, 11, 11, 4, 56]) # 將 list 透過 numpy 的 array 方法進行轉換\n",
    "print(ironmen) # 看看 ironmen 的外觀\n",
    "print(type(ironmen)) # 看看 ironmen 的資料結構\n",
    "articles = ironmen * 30\n",
    "print(articles)"
   ]
  },
  {
   "cell_type": "code",
   "execution_count": 12,
   "metadata": {},
   "outputs": [
    {
     "name": "stdout",
     "output_type": "stream",
     "text": [
      "int32\n"
     ]
    }
   ],
   "source": [
    "my_np_array = np.array([1, True])\n",
    "print(my_np_array.dtype) # int64"
   ]
  },
  {
   "cell_type": "code",
   "execution_count": 13,
   "metadata": {},
   "outputs": [
    {
     "name": "stdout",
     "output_type": "stream",
     "text": [
      "[1 1]\n"
     ]
    }
   ],
   "source": [
    "print(my_np_array)"
   ]
  },
  {
   "cell_type": "code",
   "execution_count": 14,
   "metadata": {},
   "outputs": [
    {
     "name": "stdout",
     "output_type": "stream",
     "text": [
      "<U11\n"
     ]
    }
   ],
   "source": [
    "my_np_array = np.array([1, True, \"one\"])\n",
    "print(my_np_array.dtype) # unicode_21"
   ]
  },
  {
   "cell_type": "code",
   "execution_count": 15,
   "metadata": {},
   "outputs": [
    {
     "name": "stdout",
     "output_type": "stream",
     "text": [
      "[[1 1]\n",
      " [0 0]]\n",
      "[['1' 'True']\n",
      " ['zero' 'False']]\n"
     ]
    }
   ],
   "source": [
    "import numpy as np\n",
    "\n",
    "my_2d_array = np.array([[1, True],\n",
    "                        [0, False]])\n",
    "print(my_2d_array)\n",
    "\n",
    "my_2d_array = np.array([[1, True],\n",
    "                        [\"zero\", False]])\n",
    "print(my_2d_array)"
   ]
  },
  {
   "cell_type": "code",
   "execution_count": 16,
   "metadata": {},
   "outputs": [
    {
     "name": "stdout",
     "output_type": "stream",
     "text": [
      "[ 1  4  9 16]\n",
      "[[ 1  9]\n",
      " [ 4 16]]\n"
     ]
    }
   ],
   "source": [
    "import numpy as np\n",
    "\n",
    "my_np_array = np.array([1, 2, 3, 4])\n",
    "print(my_np_array ** 2)\n",
    "\n",
    "my_2d_array = np.array([[1, 3],\n",
    "                        [2, 4]])\n",
    "print(my_2d_array ** 2)"
   ]
  },
  {
   "cell_type": "code",
   "execution_count": 17,
   "metadata": {},
   "outputs": [
    {
     "name": "stdout",
     "output_type": "stream",
     "text": [
      "46\n",
      "[ True False  True  True False  True]\n",
      "[46 11 11 56]\n"
     ]
    }
   ],
   "source": [
    "import numpy as np\n",
    "\n",
    "ironmen = np.array([46, 8, 11, 11, 4, 56])\n",
    "print(ironmen[0]) # 選出 Modern Web 組的鐵人數\n",
    "print(ironmen > 10) # 哪幾組的鐵人數超過 10 人\n",
    "print(ironmen[ironmen > 10]) # 超過 10 人的鐵人數"
   ]
  },
  {
   "cell_type": "code",
   "execution_count": 18,
   "metadata": {},
   "outputs": [
    {
     "name": "stdout",
     "output_type": "stream",
     "text": [
      "6\n",
      "(2, 3)\n"
     ]
    }
   ],
   "source": [
    "import numpy as np\n",
    "\n",
    "ironmen_2d_array = np.array([[46, 11, 4],\n",
    "                            [8, 11, 56]])\n",
    "print(ironmen_2d_array.size) # 6\n",
    "print(ironmen_2d_array.shape) # (2, 3)"
   ]
  },
  {
   "cell_type": "code",
   "execution_count": null,
   "metadata": {
    "collapsed": true
   },
   "outputs": [],
   "source": []
  },
  {
   "cell_type": "code",
   "execution_count": null,
   "metadata": {
    "collapsed": true
   },
   "outputs": [],
   "source": []
  }
 ],
 "metadata": {
  "kernelspec": {
   "display_name": "Python 3",
   "language": "python",
   "name": "python3"
  },
  "language_info": {
   "codemirror_mode": {
    "name": "ipython",
    "version": 3
   },
   "file_extension": ".py",
   "mimetype": "text/x-python",
   "name": "python",
   "nbconvert_exporter": "python",
   "pygments_lexer": "ipython3",
   "version": "3.6.3"
  }
 },
 "nbformat": 4,
 "nbformat_minor": 2
}
