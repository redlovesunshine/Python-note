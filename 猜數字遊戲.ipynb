{
 "cells": [
  {
   "cell_type": "code",
   "execution_count": null,
   "metadata": {
    "collapsed": true
   },
   "outputs": [],
   "source": [
    "# 猜數字遊戲"
   ]
  },
  {
   "cell_type": "code",
   "execution_count": 1,
   "metadata": {},
   "outputs": [
    {
     "name": "stdout",
     "output_type": "stream",
     "text": [
      "請輸入一個數字: 55\n",
      "太大囉 ~\n",
      "請輸入一個數字: 30\n",
      "太大囉 ~\n",
      "請輸入一個數字: 20\n",
      "太大囉 ~\n",
      "請輸入一個數字: 10\n",
      "太大囉 ~\n",
      "請輸入一個數字: 5\n",
      "太小囉 ~\n",
      "請輸入一個數字: 8\n",
      "太小囉 ~\n",
      "請輸入一個數字: 7\n",
      "太小囉 ~\n",
      "請輸入一個數字: 6\n",
      "太小囉 ~\n",
      "請輸入一個數字: 5\n",
      "太小囉 ~\n",
      "請輸入一個數字: 9\n",
      "恭喜你 ! 猜中囉 !! \n"
     ]
    }
   ],
   "source": [
    "import random\n",
    "import time\n",
    "random.seed(time.time())\n",
    "k = random.randint(0,50)\n",
    "play = True\n",
    "while play:\n",
    "    message = input(\"請輸入一個數字: \")\n",
    "    if k == int(message):\n",
    "        print(\"恭喜你 ! 猜中囉 !! \")\n",
    "        play = False\n",
    "    elif k > int(message):\n",
    "        print(\"太小囉 ~\")\n",
    "    elif k < int(message):\n",
    "        print(\"太大囉 ~\")"
   ]
  }
 ],
 "metadata": {
  "kernelspec": {
   "display_name": "Python 3",
   "language": "python",
   "name": "python3"
  },
  "language_info": {
   "codemirror_mode": {
    "name": "ipython",
    "version": 3
   },
   "file_extension": ".py",
   "mimetype": "text/x-python",
   "name": "python",
   "nbconvert_exporter": "python",
   "pygments_lexer": "ipython3",
   "version": "3.6.3"
  }
 },
 "nbformat": 4,
 "nbformat_minor": 2
}
